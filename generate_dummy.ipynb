{
 "cells": [
  {
   "cell_type": "code",
   "execution_count": 165,
   "metadata": {
    "collapsed": true
   },
   "outputs": [],
   "source": [
    "import pickle\n",
    "import numpy as np\n",
    "import json"
   ]
  },
  {
   "cell_type": "code",
   "execution_count": 179,
   "metadata": {
    "collapsed": false
   },
   "outputs": [
    {
     "data": {
      "text/plain": [
       "[[[1, 1, 0, 0, 1],\n",
       "  [0, 0, -1, 0, 0],\n",
       "  [-1, -1, 0, 1, 0],\n",
       "  [0, -1, -1, -1, 0],\n",
       "  [-1, -1, 0, 0, 1],\n",
       "  [1, 0, 1, 0, 0],\n",
       "  [1, -1, 1, 0, 1],\n",
       "  [-1, 0, 1, -1, 0],\n",
       "  [1, 1, 1, 1, 1],\n",
       "  [-1, -1, 1, 1, 1]],\n",
       " [[-1, 1, 1], [-1, 0, 0], [-1, 0, -1], [0, -1, -1], [1, 0, -1]],\n",
       " [[-1, -1, -1, 0, -1, -1, 0, 0, 0, 1],\n",
       "  [0, 0, 0, 1, -1, 0, 0, -1, 0, -1],\n",
       "  [1, 1, 0, -1, 1, 0, -1, 1, 0, 1]]]"
      ]
     },
     "execution_count": 179,
     "metadata": {},
     "output_type": "execute_result"
    }
   ],
   "source": [
    "relu = np.vectorize(lambda x: max(0,x))\n",
    "\n",
    "layers = [10, 5, 3, 10]\n",
    "layers = [(np.random.randint(3, size=(m, n)) - 1).tolist() for n, m in zip(layers[1:], layers[:-1])]\n",
    "layers"
   ]
  },
  {
   "cell_type": "code",
   "execution_count": 182,
   "metadata": {
    "collapsed": false
   },
   "outputs": [
    {
     "data": {
      "text/plain": [
       "'[[[1, 1, 0, 0, 1], [0, 0, -1, 0, 0], [-1, -1, 0, 1, 0], [0, -1, -1, -1, 0], [-1, -1, 0, 0, 1], [1, 0, 1, 0, 0], [1, -1, 1, 0, 1], [-1, 0, 1, -1, 0], [1, 1, 1, 1, 1], [-1, -1, 1, 1, 1]], [[-1, 1, 1], [-1, 0, 0], [-1, 0, -1], [0, -1, -1], [1, 0, -1]], [[-1, -1, -1, 0, -1, -1, 0, 0, 0, 1], [0, 0, 0, 1, -1, 0, 0, -1, 0, -1], [1, 1, 0, -1, 1, 0, -1, 1, 0, 1]]]'"
      ]
     },
     "execution_count": 182,
     "metadata": {},
     "output_type": "execute_result"
    }
   ],
   "source": [
    "layers.__repr__()"
   ]
  },
  {
   "cell_type": "code",
   "execution_count": 183,
   "metadata": {
    "collapsed": false
   },
   "outputs": [],
   "source": [
    "pickle.dump(layers, open('nn.dump', 'wb'))"
   ]
  },
  {
   "cell_type": "code",
   "execution_count": 145,
   "metadata": {
    "collapsed": false
   },
   "outputs": [
    {
     "data": {
      "text/plain": [
       "{'layer_0': array([[ 0, -1,  0,  1, -1],\n",
       "        [-1,  0,  1,  0,  1],\n",
       "        [ 0, -1,  1,  1,  0],\n",
       "        [-1,  1,  1,  0,  1],\n",
       "        [ 0,  1, -1, -1, -1],\n",
       "        [-1, -1, -1,  0,  1],\n",
       "        [-1, -1,  1, -1,  1],\n",
       "        [ 1,  0,  0,  0,  0],\n",
       "        [ 1,  0,  1, -1, -1],\n",
       "        [ 1,  1,  1,  0, -1]]), 'layer_1': array([[-1,  1,  1],\n",
       "        [ 0,  1,  1],\n",
       "        [ 0,  0, -1],\n",
       "        [-1,  1,  0],\n",
       "        [ 0,  1, -1]]), 'layer_2': array([[ 1, -1, -1,  1,  0,  0,  1,  1,  0,  1],\n",
       "        [ 0,  0, -1,  1, -1, -1,  1, -1, -1,  0],\n",
       "        [-1, -1, -1,  1,  0,  1,  0,  1,  0,  0]])}"
      ]
     },
     "execution_count": 145,
     "metadata": {},
     "output_type": "execute_result"
    }
   ],
   "source": [
    "layers"
   ]
  },
  {
   "cell_type": "code",
   "execution_count": 186,
   "metadata": {
    "collapsed": false
   },
   "outputs": [
    {
     "data": {
      "text/plain": [
       "[[[1, 1, 0, 0, 1],\n",
       "  [0, 0, -1, 0, 0],\n",
       "  [-1, -1, 0, 1, 0],\n",
       "  [0, -1, -1, -1, 0],\n",
       "  [-1, -1, 0, 0, 1],\n",
       "  [1, 0, 1, 0, 0],\n",
       "  [1, -1, 1, 0, 1],\n",
       "  [-1, 0, 1, -1, 0],\n",
       "  [1, 1, 1, 1, 1],\n",
       "  [-1, -1, 1, 1, 1]],\n",
       " [[-1, 1, 1], [-1, 0, 0], [-1, 0, -1], [0, -1, -1], [1, 0, -1]],\n",
       " [[-1, -1, -1, 0, -1, -1, 0, 0, 0, 1],\n",
       "  [0, 0, 0, 1, -1, 0, 0, -1, 0, -1],\n",
       "  [1, 1, 0, -1, 1, 0, -1, 1, 0, 1]]]"
      ]
     },
     "execution_count": 186,
     "metadata": {},
     "output_type": "execute_result"
    }
   ],
   "source": [
    "pickle.load(open('nn.dump', 'rb'))"
   ]
  },
  {
   "cell_type": "code",
   "execution_count": 188,
   "metadata": {
    "collapsed": false
   },
   "outputs": [
    {
     "data": {
      "text/plain": [
       "'[[[1, 1, 0, 0, 1], [0, 0, -1, 0, 0], [-1, -1, 0, 1, 0], [0, -1, -1, -1, 0], [-1, -1, 0, 0, 1], [1, 0, 1, 0, 0], [1, -1, 1, 0, 1], [-1, 0, 1, -1, 0], [1, 1, 1, 1, 1], [-1, -1, 1, 1, 1]], [[-1, 1, 1], [-1, 0, 0], [-1, 0, -1], [0, -1, -1], [1, 0, -1]], [[-1, -1, -1, 0, -1, -1, 0, 0, 0, 1], [0, 0, 0, 1, -1, 0, 0, -1, 0, -1], [1, 1, 0, -1, 1, 0, -1, 1, 0, 1]]]'"
      ]
     },
     "execution_count": 188,
     "metadata": {},
     "output_type": "execute_result"
    }
   ],
   "source": [
    "json.dumps(layers)"
   ]
  },
  {
   "cell_type": "code",
   "execution_count": null,
   "metadata": {
    "collapsed": true
   },
   "outputs": [],
   "source": []
  }
 ],
 "metadata": {
  "kernelspec": {
   "display_name": "Python 3",
   "language": "python",
   "name": "python3"
  },
  "language_info": {
   "codemirror_mode": {
    "name": "ipython",
    "version": 3
   },
   "file_extension": ".py",
   "mimetype": "text/x-python",
   "name": "python",
   "nbconvert_exporter": "python",
   "pygments_lexer": "ipython3",
   "version": "3.5.1"
  }
 },
 "nbformat": 4,
 "nbformat_minor": 0
}
